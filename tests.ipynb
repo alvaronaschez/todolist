{
 "cells": [
  {
   "cell_type": "code",
   "execution_count": 2,
   "metadata": {},
   "outputs": [
    {
     "name": "stdout",
     "output_type": "stream",
     "text": [
      "hi\n"
     ]
    }
   ],
   "source": [
    "print(\"hi\")"
   ]
  },
  {
   "cell_type": "code",
   "execution_count": 1,
   "metadata": {},
   "outputs": [],
   "source": [
    "from pydantic import BaseModel as PydanticBase\n",
    "\n",
    "class BaseModel(PydanticBase):\n",
    "    class Config:\n",
    "        allow_mutation = False\n",
    "        orm_mode = True"
   ]
  },
  {
   "cell_type": "code",
   "execution_count": 20,
   "metadata": {},
   "outputs": [
    {
     "name": "stdout",
     "output_type": "stream",
     "text": [
      "{'id': 1, 'name': 's22'}\n"
     ]
    }
   ],
   "source": [
    "from pydantic import Field\n",
    "\n",
    "class User(BaseModel):\n",
    "    id: int\n",
    "    name: str = Field(min_length=3)\n",
    "    surname: str | None\n",
    "\n",
    "user = User(**{'id': 1, 'name': \"s22\"})\n",
    "\n",
    "print({key: value for key, value in user.dict().items() if value is not None})"
   ]
  },
  {
   "cell_type": "code",
   "execution_count": 21,
   "metadata": {},
   "outputs": [
    {
     "name": "stdout",
     "output_type": "stream",
     "text": [
      "{'id': 1, 'name': 'alvaro'}\n"
     ]
    }
   ],
   "source": [
    "from typing_extensions import NotRequired, TypedDict\n",
    "\n",
    "class User(TypedDict):\n",
    "    id: int\n",
    "    name: str\n",
    "    surname: NotRequired[str]\n",
    "\n",
    "user: User = {\n",
    "    \"id\": 1,\n",
    "    \"jaja\": \"jeje\"\n",
    "}\n",
    "\n",
    "print(user)"
   ]
  }
 ],
 "metadata": {
  "interpreter": {
   "hash": "2452197410e53f43ef36a5d3aef2128fe2954096620035eceb639417fa4534f3"
  },
  "kernelspec": {
   "display_name": "Python 3.10.4 ('env': venv)",
   "language": "python",
   "name": "python3"
  },
  "language_info": {
   "codemirror_mode": {
    "name": "ipython",
    "version": 3
   },
   "file_extension": ".py",
   "mimetype": "text/x-python",
   "name": "python",
   "nbconvert_exporter": "python",
   "pygments_lexer": "ipython3",
   "version": "3.10.4"
  },
  "orig_nbformat": 4
 },
 "nbformat": 4,
 "nbformat_minor": 2
}
